{
 "cells": [
  {
   "cell_type": "code",
   "execution_count": 2,
   "metadata": {},
   "outputs": [],
   "source": [
    "import torch"
   ]
  },
  {
   "cell_type": "code",
   "execution_count": 4,
   "metadata": {},
   "outputs": [],
   "source": [
    "x = torch.rand(100)"
   ]
  },
  {
   "cell_type": "code",
   "execution_count": 5,
   "metadata": {},
   "outputs": [
    {
     "data": {
      "text/plain": [
       "tensor([0.4372, 0.8686, 0.2955, 0.3339, 0.4710, 0.1898, 0.8781, 0.8593, 0.0861,\n",
       "        0.3733, 0.0623, 0.0730, 0.8679, 0.9500, 0.8150, 0.2335, 0.8013, 0.4277,\n",
       "        0.7149, 0.0208, 0.5770, 0.7057, 0.0279, 0.2015, 0.0451, 0.4019, 0.5439,\n",
       "        0.6151, 0.7051, 0.4941, 0.2136, 0.2401, 0.4109, 0.5290, 0.8731, 0.7264,\n",
       "        0.7436, 0.5127, 0.2610, 0.9263, 0.9068, 0.4615, 0.7133, 0.1242, 0.6404,\n",
       "        0.5170, 0.4229, 0.3318, 0.7367, 0.4419, 0.7533, 0.7650, 0.4497, 0.3554,\n",
       "        0.2383, 0.1551, 0.9738, 0.8501, 0.7525, 0.4765, 0.6413, 0.5523, 0.2623,\n",
       "        0.0769, 0.7588, 0.6029, 0.9919, 0.1677, 0.7212, 0.2846, 0.8453, 0.8289,\n",
       "        0.1719, 0.7906, 0.1905, 0.1144, 0.4922, 0.0768, 0.3327, 0.9488, 0.3405,\n",
       "        0.5293, 0.3486, 0.8567, 0.0462, 0.5428, 0.4165, 0.5273, 0.5745, 0.5118,\n",
       "        0.1604, 0.8616, 0.2692, 0.9108, 0.7165, 0.9872, 0.9836, 0.3703, 0.7311,\n",
       "        0.3490])"
      ]
     },
     "execution_count": 5,
     "metadata": {},
     "output_type": "execute_result"
    }
   ],
   "source": [
    "x"
   ]
  },
  {
   "cell_type": "code",
   "execution_count": null,
   "metadata": {},
   "outputs": [],
   "source": []
  }
 ],
 "metadata": {
  "kernelspec": {
   "display_name": "Python 3",
   "language": "python",
   "name": "python3"
  },
  "language_info": {
   "codemirror_mode": {
    "name": "ipython",
    "version": 3
   },
   "file_extension": ".py",
   "mimetype": "text/x-python",
   "name": "python",
   "nbconvert_exporter": "python",
   "pygments_lexer": "ipython3",
   "version": "3.6.9 (default, Nov 25 2022, 14:10:45) \n[GCC 8.4.0]"
  },
  "orig_nbformat": 4,
  "vscode": {
   "interpreter": {
    "hash": "eb4a0ac80907d7f44e1a5e88d3d3381b33e3dbedd3a24d113e876f30a0c46bee"
   }
  }
 },
 "nbformat": 4,
 "nbformat_minor": 2
}
